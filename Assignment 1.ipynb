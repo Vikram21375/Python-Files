{
 "cells": [
  {
   "cell_type": "code",
   "execution_count": 1,
   "id": "9fb5cf54-1691-4f7a-98f3-abf5a27f4da1",
   "metadata": {},
   "outputs": [
    {
     "name": "stdout",
     "output_type": "stream",
     "text": [
      "Hello, welcome to Python programming!\n"
     ]
    }
   ],
   "source": [
    "message = \"Hello, welcome to Python programming!\"\n",
    "\n",
    "print(message)\n"
   ]
  },
  {
   "cell_type": "code",
   "execution_count": 2,
   "id": "84b7e5c1-3cc1-4fd1-870f-37eafb04b4c1",
   "metadata": {},
   "outputs": [
    {
     "name": "stdout",
     "output_type": "stream",
     "text": [
      "Python is fun and easy to learn!\n"
     ]
    }
   ],
   "source": [
    "message = \"Python is fun and easy to learn!\"\n",
    "print(message)"
   ]
  },
  {
   "cell_type": "code",
   "execution_count": 6,
   "id": "96cc93f6-d348-488f-b2e2-2c7cad308077",
   "metadata": {},
   "outputs": [
    {
     "name": "stdout",
     "output_type": "stream",
     "text": [
      "Hello Vikram would you like to learn som python today?\n"
     ]
    }
   ],
   "source": [
    "message = \"Hello Vikram would you like to learn som python today?\"\n",
    "print(message)"
   ]
  },
  {
   "cell_type": "code",
   "execution_count": 8,
   "id": "982e639a-4b27-4ea7-b132-9f8ee986dd63",
   "metadata": {},
   "outputs": [
    {
     "name": "stdout",
     "output_type": "stream",
     "text": [
      "Tum muze khun do mai thume azadi dunga said by Subhash Chandra Bose\n"
     ]
    }
   ],
   "source": [
    "message = \"Tum muze khun do mai thume azadi dunga said by Subhash Chandra Bose\"\n",
    "print(message)"
   ]
  },
  {
   "cell_type": "code",
   "execution_count": 10,
   "id": "b411f2ed-3ef9-4ef9-be80-bc6cf47e19bb",
   "metadata": {},
   "outputs": [
    {
     "name": "stdout",
     "output_type": "stream",
     "text": [
      "8\n",
      "8\n",
      "8\n",
      "8.0\n"
     ]
    }
   ],
   "source": [
    "print(5 + 3)\n",
    "print(10 - 2)\n",
    "print(4 * 2) \n",
    "print(16 / 2)"
   ]
  },
  {
   "cell_type": "code",
   "execution_count": 12,
   "id": "5167476e-d6bf-4e80-9d79-827da5fefc7a",
   "metadata": {},
   "outputs": [
    {
     "name": "stdout",
     "output_type": "stream",
     "text": [
      "My favourite number is {2}.\n"
     ]
    }
   ],
   "source": [
    "message = \"My favourite number is {2}.\"\n",
    "print(message)"
   ]
  },
  {
   "cell_type": "code",
   "execution_count": null,
   "id": "e72516d7-f928-4337-adf0-f69ff23528b9",
   "metadata": {},
   "outputs": [],
   "source": []
  }
 ],
 "metadata": {
  "kernelspec": {
   "display_name": "Python 3 (ipykernel)",
   "language": "python",
   "name": "python3"
  },
  "language_info": {
   "codemirror_mode": {
    "name": "ipython",
    "version": 3
   },
   "file_extension": ".py",
   "mimetype": "text/x-python",
   "name": "python",
   "nbconvert_exporter": "python",
   "pygments_lexer": "ipython3",
   "version": "3.13.5"
  }
 },
 "nbformat": 4,
 "nbformat_minor": 5
}
