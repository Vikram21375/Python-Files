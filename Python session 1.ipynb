{
 "cells": [
  {
   "cell_type": "code",
   "execution_count": 30,
   "id": "de8c00ce-933c-4630-93af-cdb9de932e74",
   "metadata": {},
   "outputs": [
    {
     "name": "stdout",
     "output_type": "stream",
     "text": [
      "10\n"
     ]
    }
   ],
   "source": [
    "print(a)\n"
   ]
  },
  {
   "cell_type": "markdown",
   "id": "98995e69-cc9b-4eba-9e10-daeea5c5f1bc",
   "metadata": {
    "panel-layout": {
     "height": 51.140625,
     "visible": true,
     "width": 100
    }
   },
   "source": [
    "Ideantifier / Variable"
   ]
  },
  {
   "cell_type": "code",
   "execution_count": 31,
   "id": "2f952bba-e39a-4689-a3f4-5e82d8387891",
   "metadata": {},
   "outputs": [
    {
     "name": "stdout",
     "output_type": "stream",
     "text": [
      "Hello World\n"
     ]
    }
   ],
   "source": [
    "print(A)"
   ]
  },
  {
   "cell_type": "code",
   "execution_count": 32,
   "id": "3f6febb0-9bd7-427a-a3e1-d2693d5edc91",
   "metadata": {},
   "outputs": [
    {
     "name": "stdout",
     "output_type": "stream",
     "text": [
      "['False', 'None', 'True', 'and', 'as', 'assert', 'async', 'await', 'break', 'class', 'continue', 'def', 'del', 'elif', 'else', 'except', 'finally', 'for', 'from', 'global', 'if', 'import', 'in', 'is', 'lambda', 'nonlocal', 'not', 'or', 'pass', 'raise', 'return', 'try', 'while', 'with', 'yield']\n"
     ]
    }
   ],
   "source": [
    "import keyword\n",
    "print(keyword.kwlist)"
   ]
  },
  {
   "cell_type": "code",
   "execution_count": 33,
   "id": "b2273143-4b51-42c1-ad97-fb72addbbf66",
   "metadata": {},
   "outputs": [
    {
     "name": "stdout",
     "output_type": "stream",
     "text": [
      "10\n"
     ]
    }
   ],
   "source": [
    "false = 10\n",
    "print(false)"
   ]
  },
  {
   "cell_type": "code",
   "execution_count": 1,
   "id": "fffb05dd-1440-4303-b0dd-dbfa6902f797",
   "metadata": {},
   "outputs": [
    {
     "name": "stdout",
     "output_type": "stream",
     "text": [
      "60\n"
     ]
    }
   ],
   "source": [
    "speed  = 30\n",
    "time  = 2\n",
    "distance = speed * time\n",
    "print(distance)"
   ]
  },
  {
   "cell_type": "code",
   "execution_count": 48,
   "id": "66dda817-ad52-40ec-9b67-1cf447b25506",
   "metadata": {},
   "outputs": [
    {
     "name": "stdout",
     "output_type": "stream",
     "text": [
      "Vikram\n"
     ]
    }
   ],
   "source": [
    "A = 'Vikram'\n",
    "print (A)"
   ]
  },
  {
   "cell_type": "code",
   "execution_count": 3,
   "id": "8167fbee-9a05-4eb7-b43a-de7adad295d7",
   "metadata": {},
   "outputs": [
    {
     "data": {
      "text/plain": [
       "'C:\\\\Users\\\\hp'"
      ]
     },
     "execution_count": 3,
     "metadata": {},
     "output_type": "execute_result"
    }
   ],
   "source": [
    "pwd"
   ]
  },
  {
   "cell_type": "markdown",
   "id": "3cb9be1c-df61-451c-bce5-6fcace631a95",
   "metadata": {},
   "source": [
    "Control Flow"
   ]
  },
  {
   "cell_type": "code",
   "execution_count": 2,
   "id": "ee6619f3-e1ce-471f-8b8a-dbc32dd51a57",
   "metadata": {},
   "outputs": [
    {
     "name": "stdout",
     "output_type": "stream",
     "text": [
      "Exe\n"
     ]
    }
   ],
   "source": [
    "if (10<20):\n",
    "    print (\"Exe\")\n",
    "else:\n",
    "    print (\"Not Exe\")\n"
   ]
  },
  {
   "cell_type": "code",
   "execution_count": 3,
   "id": "81919c5b-45d0-481f-90aa-d0b0e886e0b4",
   "metadata": {},
   "outputs": [
    {
     "name": "stdout",
     "output_type": "stream",
     "text": [
      "0\n",
      "1\n",
      "2\n",
      "3\n",
      "4\n",
      "5\n",
      "6\n",
      "7\n",
      "8\n",
      "9\n",
      "10\n"
     ]
    }
   ],
   "source": [
    "# Display numbers from 0 to 10 using a for loop\n",
    "\n",
    "for i in range(11):   # range(11) generates numbers 0 to 10\n",
    "    print(i)\n"
   ]
  },
  {
   "cell_type": "code",
   "execution_count": 4,
   "id": "6759c89a-790b-4122-8219-32ca5f472013",
   "metadata": {},
   "outputs": [
    {
     "name": "stdout",
     "output_type": "stream",
     "text": [
      "31\n",
      "33\n",
      "35\n",
      "37\n",
      "39\n",
      "41\n",
      "43\n",
      "45\n",
      "47\n",
      "49\n"
     ]
    }
   ],
   "source": [
    "# Display odd numbers from 31 to 50\n",
    "\n",
    "for i in range(31, 51):   # range(31, 51) gives numbers from 31 to 50\n",
    "    if i % 2 != 0:        # check if the number is odd\n",
    "        print(i)\n"
   ]
  },
  {
   "cell_type": "code",
   "execution_count": 10,
   "id": "262ab5a1-4da4-470c-ad53-fa95d37a7d4e",
   "metadata": {},
   "outputs": [
    {
     "name": "stdout",
     "output_type": "stream",
     "text": [
      "* \n",
      "* * \n",
      "* * * \n",
      "* * * * \n",
      "* * * * * \n"
     ]
    }
   ],
   "source": [
    "# Right-angled triangle pattern\n",
    "for i in range(1, 6):           # outer loop for rows\n",
    "    for j in range(1, i + 1):   # inner loop for columns\n",
    "        print(\"*\", end=\" \")     # print star and stay on same line\n",
    "    print()                     # move to next line after each row\n",
    "\n"
   ]
  },
  {
   "cell_type": "code",
   "execution_count": 11,
   "id": "f4f46439-464f-4d6f-847f-b25e6d539fc8",
   "metadata": {},
   "outputs": [
    {
     "name": "stdout",
     "output_type": "stream",
     "text": [
      "Vowels in Vikram: i a \n",
      "Vowels in Onasvi: O a i \n",
      "Vowels in Chetana: e a a \n"
     ]
    }
   ],
   "source": [
    "\n",
    "names = [\"Vikram\", \"Onasvi\", \"Chetana\"]\n",
    "\n",
    "# Define vowels\n",
    "vowels = \"AEIOUaeiou\"\n",
    "\n",
    "# Loop through each name\n",
    "for name in names:\n",
    "    print(f\"Vowels in {name}: \", end=\"\")\n",
    "    for letter in name:\n",
    "        if letter in vowels:\n",
    "            print(letter, end=\" \")\n",
    "    print()  # Move to the next line after each name\n"
   ]
  },
  {
   "cell_type": "code",
   "execution_count": 12,
   "id": "3dd83f96-5673-4ce1-9140-121474d026c9",
   "metadata": {},
   "outputs": [
    {
     "name": "stdout",
     "output_type": "stream",
     "text": [
      "Vowels in Vikram: ['i', 'a']\n",
      "Vowels in Onasvi: ['O', 'a', 'i']\n",
      "Vowels in Chetana: ['e', 'a', 'a']\n"
     ]
    }
   ],
   "source": [
    "names = [\"Vikram\", \"Onasvi\", \"Chetana\"]\n",
    "\n",
    "# Define vowels\n",
    "vowels = \"AEIOUaeiou\"\n",
    "\n",
    "# Using list comprehension to find vowels\n",
    "for name in names:\n",
    "    vowel_list = [letter for letter in name if letter in vowels]\n",
    "    print(f\"Vowels in {name}: {vowel_list}\")"
   ]
  },
  {
   "cell_type": "code",
   "execution_count": null,
   "id": "98017efc-312e-4c63-ac81-851b140b6a55",
   "metadata": {},
   "outputs": [],
   "source": [
    "# Store a message in a variable\n",
    "message = \"Hello, welcome to Python programming!\"\n",
    "\n",
    "# Print the message\n",
    "print(message)\n"
   ]
  },
  {
   "cell_type": "raw",
   "id": "fdab8b50-d46c-40b5-9e65-a34b1fe5f625",
   "metadata": {},
   "source": [
    "A[0:3:1]"
   ]
  },
  {
   "cell_type": "code",
   "execution_count": 23,
   "id": "f56564ad-c789-4a1f-b7d3-fff2bd817748",
   "metadata": {},
   "outputs": [
    {
     "data": {
      "text/plain": [
       "'Hello'"
      ]
     },
     "execution_count": 23,
     "metadata": {},
     "output_type": "execute_result"
    }
   ],
   "source": [
    "A = \"Hello World\"\n",
    "A[0:5:1]"
   ]
  },
  {
   "cell_type": "code",
   "execution_count": 18,
   "id": "c1a0bf0f-cc64-48a1-a566-4538d7bd92b5",
   "metadata": {},
   "outputs": [],
   "source": [
    "x = \"Vikram\"\n",
    "y = \"Onasvi\"\n",
    "z = \"Chetana\"\n"
   ]
  },
  {
   "cell_type": "code",
   "execution_count": 19,
   "id": "6a272b37-3d0a-44de-8021-ff1148e03c46",
   "metadata": {},
   "outputs": [
    {
     "name": "stdout",
     "output_type": "stream",
     "text": [
      "Vikram\n"
     ]
    }
   ],
   "source": [
    "print(x)"
   ]
  },
  {
   "cell_type": "code",
   "execution_count": 20,
   "id": "ad104df3-36a0-43ae-8347-340c77a3a332",
   "metadata": {},
   "outputs": [
    {
     "name": "stdout",
     "output_type": "stream",
     "text": [
      "VikramOnasviChetana\n"
     ]
    }
   ],
   "source": [
    "print(x+y+z)"
   ]
  },
  {
   "cell_type": "code",
   "execution_count": 28,
   "id": "b4c11d27-c282-404d-bfa4-9b3421374b73",
   "metadata": {},
   "outputs": [
    {
     "data": {
      "text/plain": [
       "'Hello'"
      ]
     },
     "execution_count": 28,
     "metadata": {},
     "output_type": "execute_result"
    }
   ],
   "source": [
    " A[0:5]"
   ]
  },
  {
   "cell_type": "code",
   "execution_count": 29,
   "id": "d73f83b1-f317-4696-b983-f5a522937867",
   "metadata": {},
   "outputs": [
    {
     "data": {
      "text/plain": [
       "'Hello World'"
      ]
     },
     "execution_count": 29,
     "metadata": {},
     "output_type": "execute_result"
    }
   ],
   "source": [
    " A[:]"
   ]
  },
  {
   "cell_type": "code",
   "execution_count": 30,
   "id": "accdb919-398a-4a91-a289-e7dc10cf7ac9",
   "metadata": {},
   "outputs": [
    {
     "name": "stdout",
     "output_type": "stream",
     "text": [
      "Vikram is my name.\n",
      "My age is 47.\n",
      "I was born and brought up in Nagpur.\n"
     ]
    }
   ],
   "source": [
    "v = \"\"\"Vikram is my name.\n",
    "My age is 47.\n",
    "I was born and brought up in Nagpur.\"\"\"\n",
    "print(v)"
   ]
  },
  {
   "cell_type": "code",
   "execution_count": 35,
   "id": "203d4e29-a710-4797-9c86-21912d0c0bc2",
   "metadata": {},
   "outputs": [
    {
     "data": {
      "text/plain": [
       "'My age is 47.'"
      ]
     },
     "execution_count": 35,
     "metadata": {},
     "output_type": "execute_result"
    }
   ],
   "source": [
    "v[19:32]"
   ]
  },
  {
   "cell_type": "code",
   "execution_count": 42,
   "id": "c0fd0159-3693-4676-a89c-df53f82b3d63",
   "metadata": {},
   "outputs": [
    {
     "data": {
      "text/plain": [
       "'Vikram is my name.\\nMy age is 47.\\nI was born and brought up in Nagpur.'"
      ]
     },
     "execution_count": 42,
     "metadata": {},
     "output_type": "execute_result"
    }
   ],
   "source": [
    "v[:]"
   ]
  },
  {
   "cell_type": "code",
   "execution_count": null,
   "id": "7c4efe8e-d5f7-4fd7-b922-91c662aa1686",
   "metadata": {},
   "outputs": [],
   "source": []
  }
 ],
 "metadata": {
  "kernelspec": {
   "display_name": "Python 3 (ipykernel)",
   "language": "python",
   "name": "python3"
  },
  "language_info": {
   "codemirror_mode": {
    "name": "ipython",
    "version": 3
   },
   "file_extension": ".py",
   "mimetype": "text/x-python",
   "name": "python",
   "nbconvert_exporter": "python",
   "pygments_lexer": "ipython3",
   "version": "3.13.5"
  },
  "panel-cell-order": [
   "4c0c6cb2-5507-4257-b364-0f06882448b6",
   "e2ba8a41-3ad5-4251-9456-a17c4f86a7f5",
   "17a3aa55-e27e-49ef-9904-da7a5a7af171",
   "4667c7c8-6697-43fb-8f9a-d29aae1432b8",
   "3c9efa2d-2d90-4b1a-9403-5a531792f267"
  ]
 },
 "nbformat": 4,
 "nbformat_minor": 5
}
